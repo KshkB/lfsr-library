{
 "cells": [
  {
   "cell_type": "markdown",
   "id": "f66baec2-5d60-4a48-86bb-012bf13bc0a8",
   "metadata": {},
   "source": [
    "# LINEAR FEEDBACK SHIFT REGISTERS\n",
    "\n",
    "## NOTEBOOK 1 - PRELIMINARIES\n",
    "\n",
    "In these notebooks we demonstrate key methods and functionality in the `lfsr` library. Modules are found in the directory `lfsr/`. The present notebook concerns generating and plotting linear feedback shift registers (LFSRs).\n",
    "\n",
    "See [Wikipedia: Linear feedback shift registers](https://en.wikipedia.org/wiki/Linear-feedback_shift_register) for background details on LFSRs.\n",
    "\n",
    "### LIBRARY IMPORT\n",
    "\n",
    "Import the `LFSR` class object from `lfsr`."
   ]
  },
  {
   "cell_type": "code",
   "execution_count": 1,
   "id": "3522351a-bc28-41c0-96d9-4b1be05b6d8d",
   "metadata": {},
   "outputs": [],
   "source": [
    "from lfsr_library import LFSR"
   ]
  },
  {
   "cell_type": "markdown",
   "id": "9ef00d46-996a-4d4a-a012-61579986b0ba",
   "metadata": {},
   "source": [
    "### INITIALIZE THE LFSR\n",
    "\n",
    "The `LFSR` object above is initialised by two keyword arguments:\n",
    "\n",
    "    - the degree, of type int\n",
    "    - tap positions, of type list[int]\n",
    "\n",
    "**Note.** The position numbering for binary sequences used here is LSb. So in the 4-bit number `1000 = 1 << 3`, the bit `1` is in position `3`.\n",
    "\n",
    "\n",
    "#### ERRONEOUS INIT\n",
    "\n",
    "When initialising taps, ensure that the position is less than the degree, otherwise `LFSR` will raise an error and fail to initialise as demonstrated below."
   ]
  },
  {
   "cell_type": "code",
   "execution_count": 2,
   "id": "b75e7972-f653-46fe-ab82-c483d61ad4f4",
   "metadata": {},
   "outputs": [
    {
     "ename": "IndexError",
     "evalue": "Invalid tap positions. Positioning is 0-indexed.",
     "output_type": "error",
     "traceback": [
      "\u001b[0;31m---------------------------------------------------------------------------\u001b[0m",
      "\u001b[0;31mIndexError\u001b[0m                                Traceback (most recent call last)",
      "Cell \u001b[0;32mIn[2], line 4\u001b[0m\n\u001b[1;32m      1\u001b[0m degree_test: \u001b[38;5;28mint\u001b[39m \u001b[38;5;241m=\u001b[39m \u001b[38;5;241m5\u001b[39m\n\u001b[1;32m      2\u001b[0m tap_positions_test: \u001b[38;5;28mlist\u001b[39m[\u001b[38;5;28mint\u001b[39m] \u001b[38;5;241m=\u001b[39m [\u001b[38;5;241m2\u001b[39m, \u001b[38;5;241m4\u001b[39m, \u001b[38;5;241m7\u001b[39m]\n\u001b[0;32m----> 4\u001b[0m lfsr_test \u001b[38;5;241m=\u001b[39m LFSR(degree\u001b[38;5;241m=\u001b[39mdegree_test, tap_positions\u001b[38;5;241m=\u001b[39mtap_positions_test)\n",
      "File \u001b[0;32m~/Projects/GitHub/lfsr_demo/lfsr_library/lfsr.py:12\u001b[0m, in \u001b[0;36mLFSR.__new__\u001b[0;34m(cls, **kwargs)\u001b[0m\n\u001b[1;32m     10\u001b[0m     \u001b[38;5;28;01mreturn\u001b[39;00m \u001b[38;5;28msuper\u001b[39m(LFSR, \u001b[38;5;28mcls\u001b[39m)\u001b[38;5;241m.\u001b[39m\u001b[38;5;21m__new__\u001b[39m(\u001b[38;5;28mcls\u001b[39m)\n\u001b[1;32m     11\u001b[0m \u001b[38;5;28;01melse\u001b[39;00m:\n\u001b[0;32m---> 12\u001b[0m     \u001b[38;5;28;01mraise\u001b[39;00m \u001b[38;5;167;01mIndexError\u001b[39;00m(\u001b[38;5;124m\"\u001b[39m\u001b[38;5;124mInvalid tap positions. Positioning is 0-indexed.\u001b[39m\u001b[38;5;124m\"\u001b[39m)\n",
      "\u001b[0;31mIndexError\u001b[0m: Invalid tap positions. Positioning is 0-indexed."
     ]
    }
   ],
   "source": [
    "degree_test: int = 5\n",
    "tap_positions_test: list[int] = [2, 4, 7]\n",
    "\n",
    "lfsr_test = LFSR(degree=degree_test, tap_positions=tap_positions_test)"
   ]
  },
  {
   "cell_type": "markdown",
   "id": "6b0e66af-a77e-401e-9193-0315b3649a27",
   "metadata": {},
   "source": [
    "#### VALID INIT\n",
    "\n",
    "A valid LFSR-initialisation requires passing tap positions which are strictly less than the degree. We can then print the feedback polynomial by calling `.feedback_polynomial` to see an algebraic representation of our LFSR."
   ]
  },
  {
   "cell_type": "code",
   "execution_count": 3,
   "id": "a1ffdd61-eaf5-408b-880d-df8c79c7a1ea",
   "metadata": {},
   "outputs": [],
   "source": [
    "deg: int = 5\n",
    "taps: list[int] = [0, 3, 4]\n",
    "\n",
    "lfsr = LFSR(degree=deg, tap_positions=taps)"
   ]
  },
  {
   "cell_type": "markdown",
   "id": "66b822a0-4ff2-40a8-8912-9cb404dd54c4",
   "metadata": {},
   "source": [
    "### FIRST PROPERTIES\n",
    "\n",
    "On initialisation, the degree, tap positions and polynomial representation can be seen through the following calls."
   ]
  },
  {
   "cell_type": "code",
   "execution_count": 4,
   "id": "d3868a6e-4527-41d6-9ece-8431369ec83b",
   "metadata": {},
   "outputs": [
    {
     "name": "stdout",
     "output_type": "stream",
     "text": [
      "the degree is: 5\n",
      "the tap positions are: [0, 3, 4]\n",
      "the feedback polynomial is: X^0 + X^3 + X^4 + X^5\n"
     ]
    }
   ],
   "source": [
    "print(f'the degree is: {lfsr.degree}')\n",
    "print(f'the tap positions are: {lfsr.tap_positions}')\n",
    "print(f'the feedback polynomial is: {lfsr.feedback_polynomial}')"
   ]
  },
  {
   "cell_type": "markdown",
   "id": "8ff5587b-293a-4d74-a20f-961e8aeecd51",
   "metadata": {},
   "source": [
    "With the `sympy` library, the feedback polynomial can be represented more cleanly. \n",
    "\n",
    "Call `.feedback_polynomial_sp` on `LFSR` as follows."
   ]
  },
  {
   "cell_type": "code",
   "execution_count": 5,
   "id": "631fb0d2-9eae-4648-945b-f2ecd4e68b5d",
   "metadata": {},
   "outputs": [
    {
     "data": {
      "text/latex": [
       "$\\displaystyle x^{5} + x^{4} + x^{3} + 1$"
      ],
      "text/plain": [
       "x**5 + x**4 + x**3 + 1"
      ]
     },
     "execution_count": 5,
     "metadata": {},
     "output_type": "execute_result"
    }
   ],
   "source": [
    "lfsr.feedback_polynomial_sp"
   ]
  },
  {
   "cell_type": "markdown",
   "id": "ac2dc4a8-34b5-4c24-8b28-6f55bea0c804",
   "metadata": {},
   "source": [
    "### GENERATE\n",
    "\n",
    "#### LFSR MECHANICS\n",
    "\n",
    "An LFSR takes a sequence of bits, termed a *bit state* and, on each iteration, returns\n",
    "\n",
    "    - an output bit\n",
    "    - a new bit state\n",
    "\n",
    "The degree of the LFSR determines the length of the bit state, i.e., number of bits in the state.\n",
    "\n",
    "If $|B\\rangle$ denotes a bit state, the least significant bit (LSb) in $|B\\rangle$ is the output bit. This is the right-most bit in $|B\\rangle$. The new state $|B^\\prime\\rangle$ is then determined as follows. The tap positions in the LFSR single out a collection of bits in $|B\\rangle$. These are then XOR'd (i.e., added as elements in $\\mathbb Z_2$) and appended to the *most* significant bit position (MSb) in $|B\\rangle$. This is the left-most bit. After then dropping the LSb, we arrive at the new bit state $|B^\\prime\\rangle$. \n",
    "\n",
    "**Illustration.** Consider $|B\\rangle = 10110$. This can be transformed by an LFSR of degree `5`. Consider tap positions at `3` and `4`. See that $\\mathrm{LSb}(|B\\rangle) = 0$. This is the first output of the LFSR. To construct the new bit state $|B^\\prime\\rangle$, firstly drop this LSb. The bits at positions `3` and `4` in $|B\\rangle$ are `1` and `0`. XORing these gives `1` which is now appended to the MSb position, yielding the new bit state \n",
    "\n",
    "\\begin{align}\n",
    "|B^\\prime\\rangle = 11011\n",
    "\\end{align}\n",
    "\n",
    "The string of output bits after $N$ many iterations is referred to as the LFSR's *bitstream*, or, *stream*.\n",
    "\n",
    "#### STATE AND STREAM GENERATION\n",
    "\n",
    "The generate method `generate()` can be called on our lfsr object to generate a log of bit state transitions and a bitstream. It passes arguments\n",
    "\n",
    "    - a seed, being an appropriately sized bit state, either as a string or binary string\n",
    "    - an integer number of times to iterate\n",
    "\n",
    "The bitstream and log of bit states transitioned through can be retrievd through attribute calls `.stream` and `.log` respectively. See below for results of our lfsr object on the bit state $|B\\rangle  = 10110$ from above."
   ]
  },
  {
   "cell_type": "code",
   "execution_count": 6,
   "id": "21541d29-36a2-4f58-b81c-83bf0bac8c6d",
   "metadata": {},
   "outputs": [
    {
     "name": "stdout",
     "output_type": "stream",
     "text": [
      "the bitstream is: 0110111100100001\n",
      "10110\n",
      "11011\n",
      "11101\n",
      "11110\n",
      "01111\n",
      "00111\n",
      "10011\n",
      "01001\n",
      "00100\n",
      "00010\n",
      "00001\n",
      "10000\n",
      "11000\n",
      "01100\n",
      "10110\n",
      "11011\n"
     ]
    }
   ],
   "source": [
    "SEED: int = 0b10110\n",
    "ITERATIONS: int = 15\n",
    "\n",
    "lfsr.generate(bitseq=SEED, iterations=ITERATIONS)\n",
    "stream: str = lfsr.stream\n",
    "log: list[str] = lfsr.log\n",
    "\n",
    "print(f'the bitstream is: {stream}')\n",
    "for bitstate in log:\n",
    "    print(bitstate)"
   ]
  },
  {
   "cell_type": "markdown",
   "id": "5e110144-372b-405e-b8a4-1cd08bbe326d",
   "metadata": {},
   "source": [
    "### LFSR PERIOD\n",
    "\n",
    "Every LFSR has a period. This is defined to be the number of iterations until the bit state returned coincides with the seed bit state. For an LFSR of a given degree $d$, its *maximal* possible period is $2^{d-1}$. Sub-maximal LFSRs are those with period less than the maximal. \n",
    "\n",
    "After `.generate()` is called on the lfsr object, its period can be retrieved through `.period` as follows.\n"
   ]
  },
  {
   "cell_type": "code",
   "execution_count": 13,
   "id": "c63ca3ba-20f6-449c-9205-a85fc8ec9367",
   "metadata": {},
   "outputs": [
    {
     "name": "stdout",
     "output_type": "stream",
     "text": [
      "14\n"
     ]
    }
   ],
   "source": [
    "print(lfsr.period)"
   ]
  },
  {
   "cell_type": "markdown",
   "id": "2142a669-0579-4005-aa90-5ec5cdeca8d1",
   "metadata": {},
   "source": [
    "Since `14 != 2**5-1 = 31`, this LFSR is *sub-maximal*. \n",
    "\n",
    "**Note.** While the seed bit state $|B\\rangle$ can aid in calculating the period of an LFSR, the property of it being maximal or sub-maximal will not depend on the seed state.\n",
    "\n",
    "Accordingly, it is in principle possible to determine if any LFSR of degree $d$ is maximal. This is by simply starting with *any* bit state and iterating $2^d-1$-many times, stopping if a period is found beforehand. Of course, for large enough degree $d$, this brute force approach is computationally infeasible."
   ]
  },
  {
   "cell_type": "code",
   "execution_count": null,
   "id": "78624cfb-50ff-41a2-8af7-e2c0dcf331d4",
   "metadata": {},
   "outputs": [],
   "source": []
  }
 ],
 "metadata": {
  "kernelspec": {
   "display_name": "Python 3 (ipykernel)",
   "language": "python",
   "name": "python3"
  },
  "language_info": {
   "codemirror_mode": {
    "name": "ipython",
    "version": 3
   },
   "file_extension": ".py",
   "mimetype": "text/x-python",
   "name": "python",
   "nbconvert_exporter": "python",
   "pygments_lexer": "ipython3",
   "version": "3.11.7"
  }
 },
 "nbformat": 4,
 "nbformat_minor": 5
}
